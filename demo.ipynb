{
 "cells": [
  {
   "cell_type": "markdown",
   "metadata": {
    "slideshow": {
     "slide_type": "skip"
    }
   },
   "source": [
    "# Adaptive and extendable numerical simulations with Trixi.jl\n",
    "\n",
    "Trixi.jl is a numerical simulation framework for adaptive, high-order discretizations of conservation laws. It has a modular architecture that allows users to easily extend its functionality and was designed to be useful to experienced researchers and new users alike. In this talk, we will give an overview of Trixi’s current features, present a typical workflow for creating and running a simulation, and show how to add new capabilities for your own research projects.\n",
    "\n",
    "## More detailed description\n",
    "\n",
    "When doing research on numerical discretization methods, scientists are often faced with a dilemma when choosing the appropriate simulation tool: In the beginning of a project, you often want a code that is nimble and with low overhead, which allows rapid prototyping to assist you in experimenting with different approaches. Later on, however, you want to evaluate your newly developed methods and algorithms in a production setting and require a high-performance implementation, support for parallelization, and a full toolchain for postprocessing and visualizing your results.\n",
    "\n",
    "With [Trixi.jl](https://github.com/trixi-framework/Trixi.jl), we try to bridge this gap by using a simple but modular architecture, which allows us to easily extend Trixi beyond the existing functionality. The main components, such as the mesh, the solvers, or the equations, can each be selected and combined individually in a library-like manner. At the same time, Trixi is a comprehensive numerical simulation framework for hyperbolic PDEs and comes with all necessary ingredients to set up a simulation, run it in parallel, and visualize the results.\n",
    "\n",
    "At its core, various systems of equations are solved on hierarchical quadtree/octree grids that provide adaptive mesh refinement via solution-based indicators. The equations, e.g., compressible Euler, ideal MHD, or hyperbolic diffusion, are discretized with high-order discontinuous Galerkin spectral element methods, with support for entropy-stable shock capturing. Trixi puts an emphasis on having a fast implementation with shared memory parallelization, and integrates well with other packages of the Julia ecosystem, such as [OrdinaryDiffEq.jl](https://github.com/SciML/OrdinaryDiffEq.jl) for time integration, [ForwardDiff.jl](https://github.com/JuliaDiff/ForwardDiff.jl) for automatic differentiation, or [Plots.jl](https://github.com/JuliaPlots/Plots.jl) for visualization. One of the key goals of Trixi is to be useful to experienced researchers while remaining accessible for new users or students. Thus, we continuously strive to keep the implementation as simple as reasonably possible. \n",
    "\n",
    "Due to Julia’s unique capabilities and ecosystem including [LoopVectorization.jl](https://github.com/JuliaSIMD/LoopVectorization.jl), serial performance of Trixi can be on par with large-scale C++ and Fortran projects in performance benchmarks using a subset of optimized methods. At the same time, the general framework is simple and extendable enough to allow porting new solver infrastructures within a few hours.\n",
    "\n",
    "In this talk, we will give an overview of the currently implemented features and discuss the overall architecture of Trixi. We will show a typical workflow for creating and running a simulation, and present scientific results that were obtained with Trixi. Finally, we will demonstrate how to add new capabilities to Trixi for your own research projects.\n",
    "\n",
    "\n",
    "## Further information on running this notebook\n",
    "\n",
    "The presentation is available as a Jupyter notebook at https://github.com/trixi-framework/talk-2021-juliacon, including information how to set up everything. For more information about Trixi and how to use it, please visit [Trixi on GitHub](https://github.com/trixi-framework/Trixi.jl) or refer to the [official documentation](https://trixi-framework.github.io/Trixi.jl/stable/). \n",
    "\n",
    "This notebook was set up and tested with Julia v1.6.1 but may also work with other (newer) versions.\n",
    "\n",
    "*Note:* If you change a variable in a later cell and then re-execute an earlier cell, the results might change unexpectedly. Thus if in doubt, re-run the entire notebook *in order*. The reason is that all cells in a Jupyter notebooks share a common variable space.\n",
    "\n",
    "*Note:* This notebook is tested using Chromium. Most parts should also work for other browsers such as Firefox, but the videos used in the last demonstrations might not be displayed correctly.\n",
    "\n",
    "\n",
    "## Authors and license\n",
    "\n",
    "This material is distributed by Michael Schlottke-Lakemper and Hendrik Ranocha under the MIT license. It is inspired by and partially derived from the talks \n",
    "- [Michael Schlottke-Lakemper (2021), Julia for adaptive high-order multi-physics simulations](https://github.com/trixi-framework/talk-2021-julia-adaptive-multi-physics-simulations)\n",
    "- [Hendrik Ranocha (2021), Introduction to Julia and Trixi, a numerical simulation framework for hyperbolic PDEs](https://github.com/trixi-framework/talk-2021-Introduction_to_Julia_and_Trixi)"
   ]
  },
  {
   "cell_type": "code",
   "execution_count": null,
   "metadata": {
    "slideshow": {
     "slide_type": "skip"
    }
   },
   "outputs": [],
   "source": [
    "# Install all dependencies used in this talk\n",
    "using Pkg\n",
    "Pkg.activate(\".\")\n",
    "Pkg.instantiate()"
   ]
  },
  {
   "cell_type": "code",
   "execution_count": null,
   "metadata": {
    "slideshow": {
     "slide_type": "skip"
    }
   },
   "outputs": [],
   "source": [
    "ENV[\"COLUMNS\"] = 100 # display width"
   ]
  },
  {
   "cell_type": "markdown",
   "metadata": {
    "slideshow": {
     "slide_type": "slide"
    }
   },
   "source": [
    "<!-- <img src=\"media/titlepage.png\" width=\"100%\"> -->\n",
    "\n",
    "\n",
    "# Adaptive and extendable numerical simulations with Trixi.jl\n",
    "\n",
    "## Michael Schlottke-Lakemper, Hendrik Ranocha \n",
    "\n",
    "\n",
    "- Follow along at https://git.io/JcL6G\n",
    "- Launch MyBinder at https://tinyurl.com/3zpp2ksw"
   ]
  },
  {
   "cell_type": "markdown",
   "metadata": {
    "slideshow": {
     "slide_type": "fragment"
    }
   },
   "source": [
    "Trixi comes with a decent amount of example setups (\"elixirs\")."
   ]
  },
  {
   "cell_type": "code",
   "execution_count": null,
   "metadata": {
    "slideshow": {
     "slide_type": "fragment"
    }
   },
   "outputs": [],
   "source": [
    "using Trixi\n",
    "default_example() # returns a path to a 2D linear advection setup\n",
    "readdir(examples_dir())"
   ]
  },
  {
   "cell_type": "code",
   "execution_count": null,
   "metadata": {
    "slideshow": {
     "slide_type": "-"
    }
   },
   "outputs": [],
   "source": [
    "get_examples() |> length"
   ]
  },
  {
   "cell_type": "markdown",
   "metadata": {
    "slideshow": {
     "slide_type": "skip"
    }
   },
   "source": [
    "## Quickstart\n",
    "\n",
    "Let's have a look at a simple 2D example.\n",
    "\n",
    "`trixi_include(...)` is a function that loads a Julia file and executes its contents. We call such files that contain a valid Trixi setup **elixirs**. `default_example()` is part of the Trixi package and returns the path to an example elixir for running a 2D linear advection simulation.\n",
    "\n",
    "**Please note that during the first invocation this may take a minute or two, since Julia has to compile all functions at first usage.**"
   ]
  },
  {
   "cell_type": "code",
   "execution_count": null,
   "metadata": {
    "slideshow": {
     "slide_type": "skip"
    }
   },
   "outputs": [],
   "source": [
    "using Trixi\n",
    "trixi_include(default_example())"
   ]
  },
  {
   "cell_type": "markdown",
   "metadata": {
    "slideshow": {
     "slide_type": "skip"
    }
   },
   "source": [
    "The results of a Trixi simulation can easily be visualized with the [Plots](https://github.com/JuliaPlots/Plots.jl) package. Simply load `Plots` and call the `plot(...)` command with the argument `sol`. By convention, in all our elixirs `sol` (short for *solution*) is the variable name that contains the result of a simulation."
   ]
  },
  {
   "cell_type": "code",
   "execution_count": null,
   "metadata": {
    "slideshow": {
     "slide_type": "skip"
    }
   },
   "outputs": [],
   "source": [
    "using Plots\n",
    "plot(sol)"
   ]
  },
  {
   "cell_type": "markdown",
   "metadata": {
    "slideshow": {
     "slide_type": "slide"
    }
   },
   "source": [
    "# Mixing an elixir: creating a Trixi simulation from scratch"
   ]
  },
  {
   "cell_type": "markdown",
   "metadata": {
    "slideshow": {
     "slide_type": "skip"
    }
   },
   "source": [
    "Let's have a look at what an elixir looks like. Generally speaking, the following components are required:\n",
    "- `equations` contain all physics-specific data and functionality\n",
    "- a `solver` represents the numerical method and its algorithms\n",
    "- a `mesh` holds the grid data\n",
    "- a `semidiscretization` encapsulates `equation`, `solver`, and `mesh`, together with initial and boundary conditions\n",
    "\n",
    "The semidiscretization object is then used to create an `ODEProblem` that can be solved with one of the solvers for ordinary differential equations (ODEs) from the [OrdinaryDiffEq](https://github.com/SciML/OrdinaryDiffEq.jl) package."
   ]
  },
  {
   "cell_type": "markdown",
   "metadata": {
    "slideshow": {
     "slide_type": "-"
    }
   },
   "source": [
    "<div align=\"center\">\n",
    "  <img src=\"https://github.com/trixi-framework/talk-2021-Introduction_to_Julia_and_Trixi/raw/main/media/components.png\" width=\"80%\" />\n",
    "</div>"
   ]
  },
  {
   "cell_type": "markdown",
   "metadata": {
    "slideshow": {
     "slide_type": "skip"
    }
   },
   "source": [
    "In the following are the contents of a *minimum* elixir that produces the same result as the `trixi_include(...)` command above (the elixir can be found in [examples/elixir_advection_simple.jl](examples/elixir_advection_simple.jl)):"
   ]
  },
  {
   "cell_type": "code",
   "execution_count": null,
   "metadata": {
    "slideshow": {
     "slide_type": "slide"
    }
   },
   "outputs": [],
   "source": [
    "using OrdinaryDiffEq, Trixi"
   ]
  },
  {
   "cell_type": "code",
   "execution_count": null,
   "metadata": {
    "slideshow": {
     "slide_type": "fragment"
    }
   },
   "outputs": [],
   "source": [
    "advectionvelocity = (1.0, 1.0)\n",
    "equations = LinearScalarAdvectionEquation2D(advectionvelocity)"
   ]
  },
  {
   "cell_type": "code",
   "execution_count": null,
   "metadata": {
    "slideshow": {
     "slide_type": "subslide"
    }
   },
   "outputs": [],
   "source": [
    "solver = DGSEM(polydeg=3, surface_flux=flux_lax_friedrichs)"
   ]
  },
  {
   "cell_type": "code",
   "execution_count": null,
   "metadata": {
    "slideshow": {
     "slide_type": "fragment"
    }
   },
   "outputs": [],
   "source": [
    "# Create a uniformely refined mesh with periodic boundaries\n",
    "coordinates_min = (-1.0, -1.0) # lower left corner of the square\n",
    "coordinates_max = ( 1.0,  1.0) # upper right corner of the square\n",
    "mesh_static = TreeMesh(coordinates_min, coordinates_max,\n",
    "                       initial_refinement_level=4, n_cells_max=10^5)"
   ]
  },
  {
   "cell_type": "code",
   "execution_count": null,
   "metadata": {
    "slideshow": {
     "slide_type": "subslide"
    }
   },
   "outputs": [],
   "source": [
    "# Create semidiscretization with all spatial discretization-related components\n",
    "semi = SemidiscretizationHyperbolic(mesh_static, equations,\n",
    "                                    initial_condition_convergence_test,\n",
    "                                    solver)\n",
    "\n",
    "# Create ODE problem from semidiscretization with time span from 0.0 to 1.0\n",
    "ode = semidiscretize(semi, (0.0, 1.0));\n",
    "\n",
    "# Evolve ODE problem in time using `solve` from OrdinaryDiffEq\n",
    "@time sol = solve(ode, BS3(), save_everystep=false);"
   ]
  },
  {
   "cell_type": "markdown",
   "metadata": {
    "slideshow": {
     "slide_type": "skip"
    }
   },
   "source": [
    "And that's it. In this minimum example, there is no output to the terminal/notebook, thus only the lack of errors tells us that everything went smoothly. However, as before, we can visualize the solution by plotting it with the `plot` function of the `Plots` package:"
   ]
  },
  {
   "cell_type": "code",
   "execution_count": null,
   "metadata": {
    "slideshow": {
     "slide_type": "fragment"
    }
   },
   "outputs": [],
   "source": [
    "using Plots\n",
    "plot(sol)"
   ]
  },
  {
   "cell_type": "markdown",
   "metadata": {
    "slideshow": {
     "slide_type": "skip"
    }
   },
   "source": [
    "As you can see from the snippet above, the entirety of a simulation setup is defined in pure Julia: There are no \"special\" parameter files, and changing a simulation setup means to modify its elixir. For example, we can change the advection speeds by passing a different velocity vector to `LinearScalarAdvectionEquation2D`,\n",
    "\n",
    "```julia\n",
    "# Create equations with different advection velocity\n",
    "advectionvelocity = (1.0, 0.1)\n",
    "equations = LinearScalarAdvectionEquation2D(advectionvelocity)\n",
    "```\n",
    "\n",
    "and re-run the simulation by re-creating the semidiscretization and the `ODEProblem`, and then calling `solve(...)` again."
   ]
  },
  {
   "cell_type": "markdown",
   "metadata": {
    "slideshow": {
     "slide_type": "slide"
    }
   },
   "source": [
    "## Using a different initial condition"
   ]
  },
  {
   "cell_type": "markdown",
   "metadata": {
    "slideshow": {
     "slide_type": "skip"
    }
   },
   "source": [
    "So far we have only used functionality that is provided by Trixi. With its modular architecture, however, it is easy to extend Trixi with your own features. Let's define a new initial condition with a cosine-shaped pulse at its center:"
   ]
  },
  {
   "cell_type": "code",
   "execution_count": null,
   "metadata": {},
   "outputs": [],
   "source": [
    "using LinearAlgebra # for `norm`\n",
    "\n",
    "function cosine_pulse(x, t, equations::LinearScalarAdvectionEquation2D)\n",
    "  halfwidth = 0.5\n",
    "  radius = norm(x)\n",
    "\n",
    "  if radius > halfwidth\n",
    "    u = 0.0\n",
    "  else\n",
    "    u = 0.1 + 0.1 * cospi(radius / halfwidth)\n",
    "  end\n",
    "\n",
    "  return SVector(u)\n",
    "end"
   ]
  },
  {
   "cell_type": "markdown",
   "metadata": {
    "slideshow": {
     "slide_type": "skip"
    }
   },
   "source": [
    "Now we can use this function for the initial condition parameter in the semidiscretization, re-run the simulation, and plot the results:"
   ]
  },
  {
   "cell_type": "code",
   "execution_count": null,
   "metadata": {
    "slideshow": {
     "slide_type": "subslide"
    }
   },
   "outputs": [],
   "source": [
    "# Recreate semidiscretization with the new initial condition\n",
    "semi = SemidiscretizationHyperbolic(mesh_static, equations,\n",
    "                                    cosine_pulse, # <-- here is the new initialization function\n",
    "                                    solver)\n",
    "# Create and solve ODE problem\n",
    "ode = semidiscretize(semi, (0.0, 1.7));\n",
    "sol = solve(ode, BS3(), saveat=range(ode.tspan..., length=6));\n",
    "\n",
    "using Printf\n",
    "plot(map(i -> plot(sol.u[i], semi, title=@sprintf(\"\\$ t = %.2f \\$\", sol.t[i])), \n",
    "        eachindex(sol.t))..., size=(1200, 550))"
   ]
  },
  {
   "cell_type": "markdown",
   "metadata": {
    "slideshow": {
     "slide_type": "slide"
    }
   },
   "source": [
    "## Adaptive mesh refinement"
   ]
  },
  {
   "cell_type": "markdown",
   "metadata": {
    "slideshow": {
     "slide_type": "skip"
    }
   },
   "source": [
    "In the previous examples, we have always used a static, uniform mesh. This means we did not fully exploit one of Trixi's fundamental building blocks: the underlying hierarchical Cartesian mesh. With its ability to locally refine the mesh in a solution-adaptive way, it can be used to greatly speed up simulations with no or minimal loss in overall accuracy. The following image series of the grid for an expanding blast wave simulation ([elixir](examples/elixir_euler_blast_wave_amr.jl) available in this repository) at $t = [0.2, 0.6, 1.0]$ (left to right) illustrates how the mesh resolution is increased only where needed."
   ]
  },
  {
   "cell_type": "markdown",
   "metadata": {},
   "source": [
    "<div align=\"center\">\n",
    "  <img src=\"https://github.com/trixi-framework/talk-2021-Introduction_to_Julia_and_Trixi/raw/main/media/callbacks_AMR.png\" width=\"80%\" />\n",
    "</div>"
   ]
  },
  {
   "cell_type": "markdown",
   "metadata": {
    "slideshow": {
     "slide_type": "skip"
    }
   },
   "source": [
    "With Trixi, you can statically refine the mesh upfront, adaptively refine it during a simulation, or use a combination of both. Here, we will focus on how to do adaptive mesh refinement (AMR), which is implemented in Trixi as a **step callback**. A callback is an algorithmic entity that is registered with the ODE solver and then *called* in regular intervals to perform certain tasks: *step* callbacks are run after each time step, while *stage* callbacks are run after each stage of the ODE solver."
   ]
  },
  {
   "cell_type": "markdown",
   "metadata": {
    "slideshow": {
     "slide_type": "skip"
    }
   },
   "source": [
    "Using callbacks instead of hard-coding all features in the main loop has the advantage that it allows to extend Trixi with new functionality without having to modify its code directly. Beyond AMR, we make use of callbacks also for tasks such as solution analysis, file I/O, in-situ visualization, or time step size calculation.\n",
    "\n",
    "Building upon the previous example, we will now introduce the `AMRCallback` to adaptively refine the mesh around the cosine pulse every 5 steps. The callback also requires the definition of an *AMR controller*, i.e., an object that tells the AMR algorithms which cells to refine/coarsen:"
   ]
  },
  {
   "cell_type": "code",
   "execution_count": null,
   "metadata": {
    "slideshow": {
     "slide_type": "subslide"
    }
   },
   "outputs": [],
   "source": [
    "# Use a simple AMR controller to refine cells between level 4 and level 6,\n",
    "# based on the maximum value of the solution in an element\n",
    "amr_controller = ControllerThreeLevel(semi,\n",
    "                                      IndicatorMax(semi, variable=first),\n",
    "                                      base_level=4,\n",
    "                                       med_level=5, med_threshold=0.05,\n",
    "                                       max_level=6, max_threshold=0.15);\n",
    "\n",
    "# Create the AMR callback that will be called every 5 time steps\n",
    "amr_callback = AMRCallback(semi, amr_controller, interval=5)"
   ]
  },
  {
   "cell_type": "markdown",
   "metadata": {
    "slideshow": {
     "slide_type": "skip"
    }
   },
   "source": [
    "The `AMRCallback` can now be passed to the ODE solver and will be invoked (i.e., performs adaptive mesh refinement) every 5 time steps. Note that we also create a new mesh with a lower initial refinement, since by default the `AMRCallback` will iteratively refine the initial mesh based on the AMR controller until it does not change anymore."
   ]
  },
  {
   "cell_type": "code",
   "execution_count": null,
   "metadata": {
    "slideshow": {
     "slide_type": "subslide"
    }
   },
   "outputs": [],
   "source": [
    "# Create new mesh and semidiscretization with lower initial refinement level\n",
    "mesh_amr = TreeMesh(coordinates_min, coordinates_max,\n",
    "                    initial_refinement_level=2,\n",
    "                    n_cells_max=10^5)\n",
    "semi = SemidiscretizationHyperbolic(mesh_amr, equations,\n",
    "                                    cosine_pulse,\n",
    "                                    solver)\n",
    "\n",
    "# Create and solve ODE problem, using the previously constructed AMR callback\n",
    "ode = semidiscretize(semi, (0.0, 1.7));\n",
    "sol = solve(ode, BS3(), save_everystep=false, callback=amr_callback);\n",
    "\n",
    "# Plot result\n",
    "pd = PlotData2D(sol)\n",
    "plot(pd, seriescolor=:heat)\n",
    "plot!(getmesh(pd))"
   ]
  },
  {
   "cell_type": "markdown",
   "metadata": {
    "slideshow": {
     "slide_type": "skip"
    }
   },
   "source": [
    "Here we also changed the color scheme and added the mesh lines to the plot to demonstrate how the mesh is locally refined around the cosine pulse. To find out more about how to visualize solutions with the `Plots` package, please refer to the [Trixi documentation](https://trixi-framework.github.io/Trixi.jl/stable/visualization/#Plots.jl)."
   ]
  },
  {
   "cell_type": "markdown",
   "metadata": {
    "slideshow": {
     "slide_type": "slide"
    }
   },
   "source": [
    "# Advanced usage"
   ]
  },
  {
   "cell_type": "markdown",
   "metadata": {
    "slideshow": {
     "slide_type": "skip"
    }
   },
   "source": [
    "In the following, we will introduce some of the more advanced features in Trixi (advanced in the sense that they go beyond basic functionality, not that they are particularly complicated to use)."
   ]
  },
  {
   "cell_type": "markdown",
   "metadata": {
    "slideshow": {
     "slide_type": "subslide"
    }
   },
   "source": [
    "## Visualizing the spectrum"
   ]
  },
  {
   "cell_type": "markdown",
   "metadata": {
    "slideshow": {
     "slide_type": "skip"
    }
   },
   "source": [
    "Trixi contains a method `linear_structure` that wraps the right-hand side operator of a semidiscretization as a linear operator. This can then be used to plot the spectrum for, e.g., the discretization of the scalar advection equation:"
   ]
  },
  {
   "cell_type": "code",
   "execution_count": null,
   "metadata": {
    "slideshow": {
     "slide_type": "skip"
    }
   },
   "outputs": [],
   "source": [
    "# Include an elixir to quickly obtain an appropriate semi discretization\n",
    "trixi_include(joinpath(\"examples\", \"elixir_advection_simple.jl\"), initial_refinement_level=2)\n",
    "\n",
    "# Get linear operator\n",
    "A, b = linear_structure(semi)\n",
    "\n",
    "# Compute eigenvalues\n",
    "using LinearAlgebra\n",
    "λ = eigvals(Matrix(A))\n",
    "\n",
    "# Plot eigenvalues in complex plane\n",
    "plot(real(λ), imag(λ), seriestype=:scatter, legend=nothing)"
   ]
  },
  {
   "cell_type": "markdown",
   "metadata": {
    "slideshow": {
     "slide_type": "skip"
    }
   },
   "source": [
    "Similarly, to analyse the spectrum of non-linear operators we can use `jacobian_ad_forward`, which uses sforward mode automatic differentiation to compute the Jacobian `J` of the operator. Here we use the elixir [examples/elixir_euler_simple.jl](examples/elixir_euler_simple.jl), which is a simplified version of an elixir for the compressible Euler equations that also comes packaged with Trixi:"
   ]
  },
  {
   "cell_type": "code",
   "execution_count": null,
   "metadata": {
    "slideshow": {
     "slide_type": "-"
    }
   },
   "outputs": [],
   "source": [
    "# Include an elixir to quickly obtain an appropriate semidiscretization\n",
    "trixi_include(joinpath(\"examples\", \"elixir_euler_simple.jl\"))\n",
    "\n",
    "# Determine Jacobian\n",
    "J = jacobian_ad_forward(semi)\n",
    "\n",
    "# Compute eigenvalues\n",
    "λ = eigvals(J)\n",
    "\n",
    "# Plot eigenvalues in complex plane\n",
    "plot(real(λ), imag(λ), seriestype=:scatter, legend=nothing)"
   ]
  },
  {
   "cell_type": "markdown",
   "metadata": {
    "slideshow": {
     "slide_type": "subslide"
    }
   },
   "source": [
    "## Propagating errors using Measurements.jl"
   ]
  },
  {
   "cell_type": "markdown",
   "metadata": {
    "slideshow": {
     "slide_type": "skip"
    }
   },
   "source": [
    "Similar to AD, Trixi also allows propagating uncertainties using linear error propagation theory via Measurements.jl. As an example, let's create a system representing the linear advection equation in 1D with an uncertain velocity. Then, we create a semidiscretization using a sine wave as initial condition, solve the ODE, and plot the resulting uncertainties in the primitive variables."
   ]
  },
  {
   "cell_type": "code",
   "execution_count": null,
   "metadata": {},
   "outputs": [],
   "source": [
    "using Trixi, OrdinaryDiffEq, Measurements, Plots\n",
    "\n",
    "advectionvelocity = 1.0 ± 0.1\n",
    "equations = LinearScalarAdvectionEquation1D(advectionvelocity)\n",
    "typeof(advectionvelocity)"
   ]
  },
  {
   "cell_type": "code",
   "execution_count": null,
   "metadata": {
    "slideshow": {
     "slide_type": "fragment"
    }
   },
   "outputs": [],
   "source": [
    "mesh = TreeMesh((-1.0,), (1.0,), n_cells_max=10^5, initial_refinement_level=3)\n",
    "solver = DGSEM(polydeg=3)\n",
    "semi = SemidiscretizationHyperbolic(mesh, equations, initial_condition_convergence_test,\n",
    "                                    solver, uEltype=Measurement{Float64})\n",
    "ode = semidiscretize(semi, (0.0, 1.5))\n",
    "sol = solve(ode, BS3(), save_everystep=false)\n",
    "plot(sol)"
   ]
  },
  {
   "cell_type": "markdown",
   "metadata": {
    "slideshow": {
     "slide_type": "skip"
    }
   },
   "source": [
    "## Differentiating through a complete simulation\n",
    "\n",
    "More details can be found in the [documentation of Trixi](https://trixi-framework.github.io/Trixi.jl)."
   ]
  },
  {
   "cell_type": "code",
   "execution_count": null,
   "metadata": {
    "slideshow": {
     "slide_type": "skip"
    }
   },
   "outputs": [],
   "source": [
    "using ForwardDiff\n",
    "\n",
    "function energy_at_final_time(k) # k is the wave number of the initial condition\n",
    "   equations = LinearScalarAdvectionEquation2D(1.0, -0.3)\n",
    "   mesh = TreeMesh((-1.0, -1.0), (1.0, 1.0), initial_refinement_level=3, n_cells_max=10^4)\n",
    "   solver = DGSEM(polydeg=3, surface_flux=flux_lax_friedrichs)\n",
    "   initial_condition = (x, t, equation) -> begin\n",
    "       x_trans = Trixi.x_trans_periodic_2d(x - equation.advectionvelocity * t)\n",
    "       return SVector(sinpi(k * sum(x_trans)))\n",
    "   end\n",
    "   semi = SemidiscretizationHyperbolic(mesh, equations, initial_condition, solver,\n",
    "                                       uEltype=typeof(k))\n",
    "   ode = semidiscretize(semi, (0.0, 1.0))\n",
    "   sol = solve(ode, BS3(), save_everystep=false)\n",
    "   Trixi.integrate(energy_total, sol.u[end], semi)\n",
    "end\n",
    "\n",
    "k_values = range(0.9, 1.1, length=101)"
   ]
  },
  {
   "cell_type": "code",
   "execution_count": null,
   "metadata": {
    "slideshow": {
     "slide_type": "skip"
    }
   },
   "outputs": [],
   "source": [
    "energy_values = energy_at_final_time.(k_values)\n",
    "plot(k_values, energy_values .- maximum(energy_values),\n",
    "     xguide=\"k\", label=\"Relative energy\")"
   ]
  },
  {
   "cell_type": "markdown",
   "metadata": {
    "slideshow": {
     "slide_type": "skip"
    }
   },
   "source": [
    "You should see a plot of a curve that resembles a parabola with local maximum around `k = 1.0`. Why's that? Well, the domain is fixed but the wave number changes. Thus, if the wave number is not chosen as an integer, the initial condition will not be a smooth periodic function in the given domain. Hence, the dissipative surface flux (`flux_lax_friedrichs` in this example) will introduce more dissipation. In particular, it will introduce more dissipation for \"less smooth\" initial data, corresponding to wave numbers `k` further away from integers."
   ]
  },
  {
   "cell_type": "markdown",
   "metadata": {
    "slideshow": {
     "slide_type": "skip"
    }
   },
   "source": [
    "We can compute the discrete derivative of the energy at the final time with respect to the wave number `k` as follows."
   ]
  },
  {
   "cell_type": "code",
   "execution_count": null,
   "metadata": {
    "slideshow": {
     "slide_type": "skip"
    }
   },
   "outputs": [],
   "source": [
    "ForwardDiff.derivative(energy_at_final_time, 1.0)"
   ]
  },
  {
   "cell_type": "code",
   "execution_count": null,
   "metadata": {
    "slideshow": {
     "slide_type": "skip"
    }
   },
   "outputs": [],
   "source": [
    "dk_values = ForwardDiff.derivative.((energy_at_final_time,), k_values);\n",
    "plot!(k_values, dk_values, label=\"Derivative\")"
   ]
  },
  {
   "cell_type": "markdown",
   "metadata": {
    "slideshow": {
     "slide_type": "skip"
    }
   },
   "source": [
    "## Analyzing the solution"
   ]
  },
  {
   "cell_type": "markdown",
   "metadata": {
    "slideshow": {
     "slide_type": "skip"
    }
   },
   "source": [
    "Oftentimes it is desireable to analyze a running simulation quantitatively by calculating integral quantities on the fly, which can be achieved by creating an `AnalysisCallback`. By default, it computes the $L^2$ and $L^\\infty$ errors and prints it to the terminal (we have seen an example of this in the [introduction]((#Solving-hyperbolic-PDEs-with-Trixi)) section above). This can be extended to other built-in or user-provided integral quantities, such as the entropy time derivative $\\partial S/\\partial u \\cdot \\partial u/\\partial t$, the conservation error, or the total kinetic energy.\n",
    "\n",
    "In the following, we will create and `AnalysisCallback` that performs a solution analysis every 20 time steps, additionally computes the conservation error, and saves everything to a file (in addition to showing it on the terminal):"
   ]
  },
  {
   "cell_type": "code",
   "execution_count": null,
   "metadata": {
    "slideshow": {
     "slide_type": "skip"
    }
   },
   "outputs": [],
   "source": [
    "# Create semidiscretization with a fully periodic initial condition\n",
    "equations = LinearScalarAdvectionEquation2D((1.0, 1.0))\n",
    "semi = SemidiscretizationHyperbolic(mesh_static, equations, initial_condition_convergence_test, solver)\n",
    "\n",
    "analysis_callback = AnalysisCallback(semi, interval=20,\n",
    "                                     extra_analysis_errors=(:conservation_error,));"
   ]
  },
  {
   "cell_type": "markdown",
   "metadata": {
    "slideshow": {
     "slide_type": "skip"
    }
   },
   "source": [
    "Since the $L^2$ and $L^\\infty$ errors are computed with respect to the (time-resolved) initial condition function, we will again use the  fully periodic`initial_condition_convergence_test` to initialize the solution. We will also use a static mesh again."
   ]
  },
  {
   "cell_type": "code",
   "execution_count": null,
   "metadata": {
    "slideshow": {
     "slide_type": "skip"
    }
   },
   "outputs": [],
   "source": [
    "# Create and solve ODE problem\n",
    "ode = semidiscretize(semi, (0.0, 1.0));\n",
    "sol = solve(ode, BS3(), save_everystep=false, callback=analysis_callback);"
   ]
  },
  {
   "cell_type": "markdown",
   "metadata": {
    "slideshow": {
     "slide_type": "skip"
    }
   },
   "source": [
    "## Running convergence tests"
   ]
  },
  {
   "cell_type": "markdown",
   "metadata": {
    "slideshow": {
     "slide_type": "skip"
    }
   },
   "source": [
    "When developing new numerical methods, a common part of the workflow is the check if the implemented scheme still exhibits the expected order of convergence (EOC) for mesh refinement. Trixi has a helper function `convergence_test(...)`, which re-runs a given elixir multiple times, each time increasing the mesh resolution by one. For this, we will again use the default example elixir provided by Trixi.\n",
    "\n",
    "*Note:* Since changing the mesh resolution also affects the allowed time step through the CFL condition, `convergence_test(...)` requires the elixir to use a [StepsizeCallback](https://trixi-framework.github.io/Trixi.jl/stable/reference-trixi/#Trixi.StepsizeCallback) to automatically compute the explicit time step or use error-based step size control with appropriately small tolerances."
   ]
  },
  {
   "cell_type": "code",
   "execution_count": null,
   "metadata": {
    "slideshow": {
     "slide_type": "skip"
    }
   },
   "outputs": [],
   "source": [
    "# Run convergence test with default example and 3 different mesh refinement levels\n",
    "convergence_test(default_example(), 3);"
   ]
  },
  {
   "cell_type": "markdown",
   "metadata": {
    "slideshow": {
     "slide_type": "skip"
    }
   },
   "source": [
    "## Postprocessing with Trixi2Vtk and ParaView"
   ]
  },
  {
   "cell_type": "markdown",
   "metadata": {
    "slideshow": {
     "slide_type": "skip"
    }
   },
   "source": [
    "So far we have only visualized the solutions ad-hoc using the `plots(...)` function of the `Plots` package. However, for a more in-depth solution analysis especially of 3D data, it is often helpful to rely on a proper visualization program. Trixi supports converting its solution files, which are created as HDF5 files by the [SaveSolutionCallback](https://trixi-framework.github.io/Trixi.jl/stable/reference-trixi/#Trixi.SaveSolutionCallback)), to VTK files that can be opened and visualized with [ParaView](https://www.paraview.org) or [VisIt](http://visit.llnl.gov). This functionality is available in the [Trixi2Vtk](https://github.com/trixi-framework/Trixi2Vtk.jl) package, which provides a `trixi2vtk(...)` function:"
   ]
  },
  {
   "cell_type": "code",
   "execution_count": null,
   "metadata": {
    "slideshow": {
     "slide_type": "skip"
    }
   },
   "outputs": [],
   "source": [
    "using Trixi2Vtk\n",
    "trixi2vtk(joinpath(\"out\", \"solution_000000.h5\"), output_directory=\"out\")"
   ]
  },
  {
   "cell_type": "markdown",
   "metadata": {
    "slideshow": {
     "slide_type": "skip"
    }
   },
   "source": [
    "This will create two files in the `out` directory, `solution_000000.vtu` and `solution_000000_celldata.vtu`. More information about how to use `trixi2vtk(...)` can be found in the [Trixi documentation](https://trixi-framework.github.io/Trixi.jl/stable/visualization/#Trixi2Vtk)."
   ]
  }
 ],
 "metadata": {
  "celltoolbar": "Slideshow",
  "kernelspec": {
   "display_name": "Julia 1.6.1",
   "language": "julia",
   "name": "julia-1.6"
  },
  "language_info": {
   "file_extension": ".jl",
   "mimetype": "application/julia",
   "name": "julia",
   "version": "1.6.1"
  }
 },
 "nbformat": 4,
 "nbformat_minor": 4
}
